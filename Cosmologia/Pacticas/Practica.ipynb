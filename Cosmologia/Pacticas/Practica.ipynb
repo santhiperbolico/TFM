{
 "cells": [
  {
   "cell_type": "code",
   "execution_count": 34,
   "metadata": {},
   "outputs": [],
   "source": [
    "import numpy as np\n",
    "import pandas as pd\n",
    "import scipy as sp\n",
    "import scipy.integrate as integrate\n",
    "import matplotlib.pyplot as plt"
   ]
  },
  {
   "cell_type": "markdown",
   "metadata": {},
   "source": [
    "### Funciones a usar"
   ]
  },
  {
   "cell_type": "code",
   "execution_count": 83,
   "metadata": {},
   "outputs": [],
   "source": [
    "def valores_grafica(parametros_variables):\n",
    "    h,w_b,w_m,ns=parametros_variables\n",
    "    \n",
    "    z_dec=1090\n",
    "    N_eff=3046\n",
    "    w_gamma=2.47*10**(-5)\n",
    "    #w_r=(1+7/8*N_eff*(4/11)**(4/3))*w_gamma\n",
    "    w_r=4.17*10**(-5)\n",
    "    w_lamb=h**2-w_m-w_r\n",
    "    A_s=2.2*10**(-9)\n",
    "    k_0=0.05\n",
    "    print(w_r)\n",
    "    H_0=h/2998\n",
    "    \n",
    "    def R(z):\n",
    "        return w_b*(3.04*10**4)/(1+z)\n",
    "    \n",
    "    def c_s(z):\n",
    "        c=(1/3)*(1+R(z))\n",
    "        return np.sqrt(c)\n",
    "    \n",
    "    def T(x):\n",
    "        parte1=np.log(1+0.171*x)/(0.171*x)\n",
    "        parte2=(1 + 0.284*x + np.power(1.18*x,2) + np.power(0.399*x,3) + np.power(0.49*x,4))**(-0.25)\n",
    "        return parte1*parte2\n",
    "    \n",
    "    def E_inv(z):\n",
    "        parte1=w_m*np.power((1+z),3) + w_r*np.power((1+z),4) + w_lamb\n",
    "        #parte1=w_m*((1+z)**3) + w_r*((1+z)**4)+w_lamb\n",
    "        return (np.sqrt(parte1)/h)**(-1)\n",
    "    \n",
    "    def P_R(k):\n",
    "        return A_s*(k/k_0)**(ns-1)\n",
    "    \n",
    "    def func_int_rs(z):\n",
    "        return c_s(z)*E_inv(z)\n",
    "    \n",
    "    def func_bessel(x,l):\n",
    "        if x>l:\n",
    "            return 0.5/(x*np.sqrt(np.power(x,2)-np.power(l,2)))\n",
    "        else:\n",
    "            return 0\n",
    "        \n",
    "    d_A = integrate.quad(E_inv,0,z_dec)[0]/H_0\n",
    "    r_s=integrate.quad(func_int_rs,z_dec,np.inf)[0]/H_0\n",
    "    k_eq=0.073*w_m\n",
    "    k_d=0.14\n",
    "    \n",
    "    print(\"R(Z_dec)={:.5f}, d_A={:.5f} y r_s={:.5f}\".format(R(z_dec),d_A,r_s))\n",
    "    \n",
    "    l_minimo=100\n",
    "    l_maximo=1501\n",
    "    l_array=np.array(range(l_minimo,l_maximo))\n",
    "    longitud=len(l_array)\n",
    "    cl=np.zeros(longitud)\n",
    "    \n",
    "    \n",
    "    def c_l_funcion(l):\n",
    "        \n",
    "        def func_int(k):\n",
    "            const=4*np.pi*9/25\n",
    "            parte1=P_R(k)\n",
    "            parte2=np.power(-R(z_dec)*T(k/k_eq)+5/3*np.cos(k*r_s)*np.exp(-(k/k_d)**2),2)\n",
    "            parte3=func_bessel(k*d_A,l)/k\n",
    "            return parte1*parte2*parte3\n",
    "        \n",
    "        limite_sup=np.inf\n",
    "        limite_inf=0 #l/(d_A**2)\n",
    "        return integrate.quad(func_int,limite_inf,limite_sup)[0]\n",
    "    \n",
    "    i=0\n",
    "    for l in l_array:\n",
    "        valor=c_l_funcion(l)\n",
    "        cl[i]=valor*l*(l+1)/(2*np.pi)\n",
    "        i+=1\n",
    "    \n",
    "    plt.figure(figsize=(10,7))\n",
    "    plt.title(\"Espectro Angular de Temperaturas\")\n",
    "    plt.ylabel(\"$l(l+1)C_l/2\\pi$\")\n",
    "    plt.xlabel(\"l\")\n",
    "    plt.plot(l_array,cl)\n",
    "            \n",
    "        "
   ]
  },
  {
   "cell_type": "code",
   "execution_count": 84,
   "metadata": {},
   "outputs": [
    {
     "name": "stdout",
     "output_type": "stream",
     "text": [
      "4.1700000000000004e-05\n",
      "R(Z_dec)=0.61302, d_A=14002.41298 y r_s=183.10683\n"
     ]
    },
    {
     "data": {
      "image/png": "[encoded data removed]",
      "text/plain": [
       "<Figure size 720x504 with 1 Axes>"
      ]
     },
     "metadata": {
      "needs_background": "light"
     },
     "output_type": "display_data"
    }
   ],
   "source": [
    "parametros=0.67,0.022,0.14,0.97 #h,w_b,w_m,ns\n",
    "\n",
    "valores_grafica(parametros)"
   ]
  },
  {
   "cell_type": "code",
   "execution_count": 56,
   "metadata": {},
   "outputs": [],
   "source": [
    "?integrate.quad"
   ]
  }
 ],
 "metadata": {
  "kernelspec": {
   "display_name": "Python 3",
   "language": "python",
   "name": "python3"
  },
  "language_info": {
   "codemirror_mode": {
    "name": "ipython",
    "version": 3
   },
   "file_extension": ".py",
   "mimetype": "text/x-python",
   "name": "python",
   "nbconvert_exporter": "python",
   "pygments_lexer": "ipython3",
   "version": "3.6.6"
  }
 },
 "nbformat": 4,
 "nbformat_minor": 2
}
