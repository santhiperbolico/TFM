{
 "cells": [
  {
   "cell_type": "markdown",
   "metadata": {},
   "source": [
    "# Abundance Matching"
   ]
  },
  {
   "cell_type": "markdown",
   "metadata": {},
   "source": [
    "### Librerias"
   ]
  },
  {
   "cell_type": "code",
   "execution_count": 1,
   "metadata": {},
   "outputs": [
    {
     "name": "stderr",
     "output_type": "stream",
     "text": [
      "WARNING (theano.configdefaults): g++ not available, if using conda: `conda install m2w64-toolchain`\n",
      "C:\\Users\\santiago.arranz\\AppData\\Local\\Continuum\\anaconda3\\lib\\site-packages\\theano\\configdefaults.py:560: UserWarning: DeprecationWarning: there is no c++ compiler.This is deprecated and with Theano 0.11 a c++ compiler will be mandatory\n",
      "  warnings.warn(\"DeprecationWarning: there is no c++ compiler.\"\n",
      "WARNING (theano.configdefaults): g++ not detected ! Theano will be unable to execute optimized C-implementations (for both CPU and GPU) and will default to Python implementations. Performance will be severely degraded. To remove this warning, set Theano flags cxx to an empty string.\n",
      "WARNING (theano.tensor.blas): Using NumPy C-API based implementation for BLAS functions.\n",
      "C:\\Users\\santiago.arranz\\AppData\\Local\\Continuum\\anaconda3\\lib\\site-packages\\h5py\\__init__.py:34: FutureWarning: Conversion of the second argument of issubdtype from `float` to `np.floating` is deprecated. In future, it will be treated as `np.float64 == np.dtype(float).type`.\n",
      "  from ._conv import register_converters as _register_converters\n"
     ]
    }
   ],
   "source": [
    "import pandas as pd\n",
    "import numpy as np\n",
    "import matplotlib.pyplot as plt\n",
    "from scipy.interpolate import interp1d\n",
    "from scipy.optimize import curve_fit\n",
    "import scipy.integrate as integrate\n",
    "from tqdm import trange\n",
    "import pymc3 as pm\n",
    "import theano\n",
    "import theano.tensor as tt\n",
    "\n",
    "\n",
    "%matplotlib inline"
   ]
  },
  {
   "cell_type": "markdown",
   "metadata": {},
   "source": [
    "## Datos"
   ]
  },
  {
   "cell_type": "markdown",
   "metadata": {},
   "source": [
    "#### Bouwens"
   ]
  },
  {
   "cell_type": "markdown",
   "metadata": {},
   "source": [
    "<img src=\"https://cdn.mathpix.com/snip/images/WTuNW8HreMYZDdZBvWGW1rW9nSD4COOjsfjqS6Xq3aY.original.fullsize.png\" />"
   ]
  },
  {
   "cell_type": "code",
   "execution_count": null,
   "metadata": {
    "collapsed": true
   },
   "outputs": [],
   "source": [
    "z4 =[\n",
    "\"-22.69,0.000003,0.000004\",\n",
    "\"-22.19,0.000015,0.000009\",\n",
    "\"-21.69,0.000134,0.000023\",\n",
    "\"-21.19,0.000393,0.000040\",\n",
    "\"-20.69,0.000678,0.000063\",\n",
    "\"-20.19,0.001696,0.000113\",\n",
    "\"-19.69,0.002475,0.000185\",\n",
    "\"-19.19,0.002984,0.000255\",\n",
    "\"-18.69,0.005352,0.000446\",\n",
    "\"-18.19,0.006865,0.001043\",\n",
    "\"-17.69,0.010473,0.002229\",\n",
    "\"-16.94,0.024580,0.003500\",\n",
    "\"-15.94,0.025080,0.007860\"]\n",
    "\n",
    "\n",
    "\n",
    "z5 = [\n",
    "\"-23.11,0.000002,0.000002\",\n",
    "\"-22.61,0.000006,0.000003\",\n",
    "\"-22.11,0.000034,0.000008\",\n",
    "\"-21.61,0.000101,0.000014\",\n",
    "\"-21.11,0.000265,0.000025\",\n",
    "\"-20.61,0.000676,0.000046\",\n",
    "\"-20.11,0.001029,0.000067\",\n",
    "\"-19.61,0.001329,0.000094\",\n",
    "\"-19.11,0.002085,0.000171\",\n",
    "\"-18.36,0.004460,0.000540\",\n",
    "\"-17.36,0.008600,0.001760\",\n",
    "\"-16.36,0.024400,0.007160\",\n",
    "]\n",
    "\n",
    "z6 = [\n",
    "\"-22.52,0.000002,0.000002\",\n",
    "\"-22.02,0.000015,0.000006\",\n",
    "\"-21.52,0.000053,0.000012\",\n",
    "\"-21.02,0.000176,0.000025\",\n",
    "\"-20.52,0.000320,0.000041\",\n",
    "\"-20.02,0.000698,0.000083\",\n",
    "\"-19.52,0.001246,0.000137\",\n",
    "\"-18.77,0.001900,0.000320\",\n",
    "\"-17.77,0.006680,0.001380\",\n",
    "\"-16.77,0.013640,0.004200\"\n",
    "]\n",
    "\n",
    "w = open('Bouwens 2015/bowensz4.csv','w')\n",
    "for l in z4:\n",
    "    w.write(l+'\\n')\n",
    "w.close()\n",
    "\n",
    "w = open('Bouwens 2015/bowensz5.csv','w')\n",
    "for l in z5:\n",
    "    w.write(l+'\\n')\n",
    "w.close()\n",
    "\n",
    "w = open('Bouwens 2015/bowensz6.csv','w')\n",
    "for l in z6:\n",
    "    w.write(l+'\\n')\n",
    "w.close()"
   ]
  },
  {
   "cell_type": "code",
   "execution_count": 2,
   "metadata": {
    "collapsed": true
   },
   "outputs": [],
   "source": [
    "bw_z4 = pd.read_csv(\"Bouwens 2015/bowensz4.csv\", names=['M','phi','err_phi']) \n",
    "bw_z4['Mass'] = np.log10(120 * np.power(10,-0.4 * (bw_z4.M.values - 4.62)))\n",
    "bw_z5 = pd.read_csv(\"Bouwens 2015/bowensz5.csv\", names=['M','phi','err_phi']) \n",
    "bw_z5['Mass'] = np.log10(120 * np.power(10,-0.4 * (bw_z5.M.values - 4.62)))\n",
    "bw_z6 = pd.read_csv(\"Bouwens 2015/bowensz6.csv\", names=['M','phi','err_phi']) \n",
    "bw_z6['Mass'] = np.log10(120 * np.power(10,-0.4 * (bw_z6.M.values - 4.62)))"
   ]
  },
  {
   "cell_type": "code",
   "execution_count": 14,
   "metadata": {},
   "outputs": [
    {
     "data": {
      "text/html": [
       "<div>\n",
       "<style scoped>\n",
       "    .dataframe tbody tr th:only-of-type {\n",
       "        vertical-align: middle;\n",
       "    }\n",
       "\n",
       "    .dataframe tbody tr th {\n",
       "        vertical-align: top;\n",
       "    }\n",
       "\n",
       "    .dataframe thead th {\n",
       "        text-align: right;\n",
       "    }\n",
       "</style>\n",
       "<table border=\"1\" class=\"dataframe\">\n",
       "  <thead>\n",
       "    <tr style=\"text-align: right;\">\n",
       "      <th></th>\n",
       "      <th>M</th>\n",
       "      <th>phi</th>\n",
       "      <th>err_phi</th>\n",
       "      <th>Mass</th>\n",
       "      <th>#UV_Center</th>\n",
       "    </tr>\n",
       "  </thead>\n",
       "  <tbody>\n",
       "    <tr>\n",
       "      <th>0</th>\n",
       "      <td>-22.69</td>\n",
       "      <td>0.000003</td>\n",
       "      <td>0.000004</td>\n",
       "      <td>13.003181</td>\n",
       "      <td>-22.75</td>\n",
       "    </tr>\n",
       "    <tr>\n",
       "      <th>1</th>\n",
       "      <td>-22.19</td>\n",
       "      <td>0.000015</td>\n",
       "      <td>0.000009</td>\n",
       "      <td>12.803181</td>\n",
       "      <td>-22.25</td>\n",
       "    </tr>\n",
       "    <tr>\n",
       "      <th>2</th>\n",
       "      <td>-21.69</td>\n",
       "      <td>0.000134</td>\n",
       "      <td>0.000023</td>\n",
       "      <td>12.603181</td>\n",
       "      <td>-21.75</td>\n",
       "    </tr>\n",
       "    <tr>\n",
       "      <th>3</th>\n",
       "      <td>-21.19</td>\n",
       "      <td>0.000393</td>\n",
       "      <td>0.000040</td>\n",
       "      <td>12.403181</td>\n",
       "      <td>-21.25</td>\n",
       "    </tr>\n",
       "    <tr>\n",
       "      <th>4</th>\n",
       "      <td>-20.69</td>\n",
       "      <td>0.000678</td>\n",
       "      <td>0.000063</td>\n",
       "      <td>12.203181</td>\n",
       "      <td>-20.75</td>\n",
       "    </tr>\n",
       "    <tr>\n",
       "      <th>5</th>\n",
       "      <td>-20.19</td>\n",
       "      <td>0.001696</td>\n",
       "      <td>0.000113</td>\n",
       "      <td>12.003181</td>\n",
       "      <td>-20.25</td>\n",
       "    </tr>\n",
       "    <tr>\n",
       "      <th>6</th>\n",
       "      <td>-19.69</td>\n",
       "      <td>0.002475</td>\n",
       "      <td>0.000185</td>\n",
       "      <td>11.803181</td>\n",
       "      <td>-19.75</td>\n",
       "    </tr>\n",
       "    <tr>\n",
       "      <th>7</th>\n",
       "      <td>-19.19</td>\n",
       "      <td>0.002984</td>\n",
       "      <td>0.000255</td>\n",
       "      <td>11.603181</td>\n",
       "      <td>-19.25</td>\n",
       "    </tr>\n",
       "    <tr>\n",
       "      <th>8</th>\n",
       "      <td>-18.69</td>\n",
       "      <td>0.005352</td>\n",
       "      <td>0.000446</td>\n",
       "      <td>11.403181</td>\n",
       "      <td>-18.75</td>\n",
       "    </tr>\n",
       "    <tr>\n",
       "      <th>9</th>\n",
       "      <td>-18.19</td>\n",
       "      <td>0.006865</td>\n",
       "      <td>0.001043</td>\n",
       "      <td>11.203181</td>\n",
       "      <td>-18.25</td>\n",
       "    </tr>\n",
       "    <tr>\n",
       "      <th>10</th>\n",
       "      <td>-17.69</td>\n",
       "      <td>0.010473</td>\n",
       "      <td>0.002229</td>\n",
       "      <td>11.003181</td>\n",
       "      <td>-17.75</td>\n",
       "    </tr>\n",
       "    <tr>\n",
       "      <th>11</th>\n",
       "      <td>-16.94</td>\n",
       "      <td>0.024580</td>\n",
       "      <td>0.003500</td>\n",
       "      <td>10.703181</td>\n",
       "      <td>-17.00</td>\n",
       "    </tr>\n",
       "    <tr>\n",
       "      <th>12</th>\n",
       "      <td>-15.94</td>\n",
       "      <td>0.025080</td>\n",
       "      <td>0.007860</td>\n",
       "      <td>10.303181</td>\n",
       "      <td>-16.00</td>\n",
       "    </tr>\n",
       "  </tbody>\n",
       "</table>\n",
       "</div>"
      ],
      "text/plain": [
       "        M       phi   err_phi       Mass  #UV_Center\n",
       "0  -22.69  0.000003  0.000004  13.003181      -22.75\n",
       "1  -22.19  0.000015  0.000009  12.803181      -22.25\n",
       "2  -21.69  0.000134  0.000023  12.603181      -21.75\n",
       "3  -21.19  0.000393  0.000040  12.403181      -21.25\n",
       "4  -20.69  0.000678  0.000063  12.203181      -20.75\n",
       "5  -20.19  0.001696  0.000113  12.003181      -20.25\n",
       "6  -19.69  0.002475  0.000185  11.803181      -19.75\n",
       "7  -19.19  0.002984  0.000255  11.603181      -19.25\n",
       "8  -18.69  0.005352  0.000446  11.403181      -18.75\n",
       "9  -18.19  0.006865  0.001043  11.203181      -18.25\n",
       "10 -17.69  0.010473  0.002229  11.003181      -17.75\n",
       "11 -16.94  0.024580  0.003500  10.703181      -17.00\n",
       "12 -15.94  0.025080  0.007860  10.303181      -16.00"
      ]
     },
     "execution_count": 14,
     "metadata": {},
     "output_type": "execute_result"
    }
   ],
   "source": [
    "bw_z4"
   ]
  },
  {
   "cell_type": "markdown",
   "metadata": {},
   "source": [
    "#### Behroozi 2019"
   ]
  },
  {
   "cell_type": "code",
   "execution_count": 3,
   "metadata": {
    "scrolled": true
   },
   "outputs": [
    {
     "name": "stderr",
     "output_type": "stream",
     "text": [
      "C:\\Users\\santiago.arranz\\AppData\\Local\\Continuum\\anaconda3\\lib\\site-packages\\ipykernel_launcher.py:1: ParserWarning: Falling back to the 'python' engine because the 'c' engine does not support regex separators (separators > 1 char and different from '\\s+' are interpreted as regex); you can avoid this warning by specifying engine='python'.\n",
      "  \"\"\"Entry point for launching an IPython kernel.\n",
      "C:\\Users\\santiago.arranz\\AppData\\Local\\Continuum\\anaconda3\\lib\\site-packages\\ipykernel_launcher.py:3: ParserWarning: Falling back to the 'python' engine because the 'c' engine does not support regex separators (separators > 1 char and different from '\\s+' are interpreted as regex); you can avoid this warning by specifying engine='python'.\n",
      "  This is separate from the ipykernel package so we can avoid doing imports until\n",
      "C:\\Users\\santiago.arranz\\AppData\\Local\\Continuum\\anaconda3\\lib\\site-packages\\ipykernel_launcher.py:5: ParserWarning: Falling back to the 'python' engine because the 'c' engine does not support regex separators (separators > 1 char and different from '\\s+' are interpreted as regex); you can avoid this warning by specifying engine='python'.\n",
      "  \"\"\"\n",
      "C:\\Users\\santiago.arranz\\AppData\\Local\\Continuum\\anaconda3\\lib\\site-packages\\ipykernel_launcher.py:7: ParserWarning: Falling back to the 'python' engine because the 'c' engine does not support regex separators (separators > 1 char and different from '\\s+' are interpreted as regex); you can avoid this warning by specifying engine='python'.\n",
      "  import sys\n",
      "C:\\Users\\santiago.arranz\\AppData\\Local\\Continuum\\anaconda3\\lib\\site-packages\\ipykernel_launcher.py:9: ParserWarning: Falling back to the 'python' engine because the 'c' engine does not support regex separators (separators > 1 char and different from '\\s+' are interpreted as regex); you can avoid this warning by specifying engine='python'.\n",
      "  if __name__ == '__main__':\n",
      "C:\\Users\\santiago.arranz\\AppData\\Local\\Continuum\\anaconda3\\lib\\site-packages\\ipykernel_launcher.py:11: ParserWarning: Falling back to the 'python' engine because the 'c' engine does not support regex separators (separators > 1 char and different from '\\s+' are interpreted as regex); you can avoid this warning by specifying engine='python'.\n",
      "  # This is added back by InteractiveShellApp.init_path()\n",
      "C:\\Users\\santiago.arranz\\AppData\\Local\\Continuum\\anaconda3\\lib\\site-packages\\ipykernel_launcher.py:13: ParserWarning: Falling back to the 'python' engine because the 'c' engine does not support regex separators (separators > 1 char and different from '\\s+' are interpreted as regex); you can avoid this warning by specifying engine='python'.\n",
      "  del sys.path[0]\n",
      "C:\\Users\\santiago.arranz\\AppData\\Local\\Continuum\\anaconda3\\lib\\site-packages\\ipykernel_launcher.py:14: ParserWarning: Falling back to the 'python' engine because the 'c' engine does not support regex separators (separators > 1 char and different from '\\s+' are interpreted as regex); you can avoid this warning by specifying engine='python'.\n",
      "  \n",
      "C:\\Users\\santiago.arranz\\AppData\\Local\\Continuum\\anaconda3\\lib\\site-packages\\ipykernel_launcher.py:15: ParserWarning: Falling back to the 'python' engine because the 'c' engine does not support regex separators (separators > 1 char and different from '\\s+' are interpreted as regex); you can avoid this warning by specifying engine='python'.\n",
      "  from ipykernel import kernelapp as app\n"
     ]
    }
   ],
   "source": [
    "hmf_z4=pd.read_csv(\"umachine-dr1/data/hmfs/hmf_a0.202435.dat\", skiprows=2,sep=\"\\s\")\n",
    "\n",
    "hmf_z5=pd.read_csv(\"umachine-dr1/data/hmfs/hmf_a0.166998.dat\", skiprows=2,sep=\"\\s\")\n",
    "\n",
    "hmf_z6=pd.read_csv(\"umachine-dr1/data/hmfs/hmf_a0.141685.dat\", skiprows=2,sep=\"\\s\")\n",
    "\n",
    "uvsm_z4=pd.read_csv(\"umachine-dr1/data/uvsm/uvsm_z3.5-z4.5.dat\", skiprows=3,sep=\"\\s\")\n",
    "\n",
    "uvsm_z5=pd.read_csv(\"umachine-dr1/data/uvsm/uvsm_z4.5-z5.5.dat\", skiprows=3,sep=\"\\s\")\n",
    "\n",
    "uvsm_z6=pd.read_csv(\"umachine-dr1/data/uvsm/uvsm_z5.5-z6.5.dat\", skiprows=3,sep=\"\\s\")\n",
    "\n",
    "smhm_z4=pd.read_csv(\"umachine-dr1/data/smhm/averages/sm_averages_a0.202435.dat\", skiprows=6,sep=\"\\s\")\n",
    "smhm_z5=pd.read_csv(\"umachine-dr1/data/smhm/averages/sm_averages_a0.166998.dat\", skiprows=6,sep=\"\\s\")\n",
    "smhm_z6=pd.read_csv(\"umachine-dr1/data/smhm/averages/sm_averages_a0.141685.dat\", skiprows=6,sep=\"\\s\")"
   ]
  },
  {
   "cell_type": "code",
   "execution_count": 4,
   "metadata": {},
   "outputs": [
    {
     "name": "stdout",
     "output_type": "stream",
     "text": [
      "['#Log10(HM_Center)(0)' 'Log_SM(1)' 'Err+(2)' 'Err-(3)' 'Log_SMHM(4)'\n",
      " 'Err+(5)' 'Err-(6)' 'Log_True_SM(7)' 'Err+(8)' 'Err-(9)'\n",
      " 'Log_True_SMHM(10)' 'Err+(11)' 'Err-(12)' 'HM_Left_Edge(13)'\n",
      " 'HM_Right_Edge(14)' 'Bestfit_Halo_Counts(15)']\n"
     ]
    }
   ],
   "source": [
    "print(smhm_z6.columns.values)\n",
    "\n",
    "smhm_z4.insert(7,'Q*',np.power(10,smhm_z4['Log_SMHM(4)'].values - np.log10(0.016)))\n",
    "smhm_z4.insert(8,'Err+Q*',np.power(10,smhm_z4['Log_SMHM(4)'].values + smhm_z4['Err+(5)'].values - np.log10(0.016)))\n",
    "smhm_z4.insert(9,'Err-Q*',np.power(10,smhm_z4['Log_SMHM(4)'].values - smhm_z4['Err-(6)'].values - np.log10(0.016)))\n",
    "smhm_z4[smhm_z4['Log_SMHM(4)'] == 0] = 0\n",
    "\n",
    "smhm_z5.insert(7,'Q*',np.power(10,smhm_z5['Log_SMHM(4)'].values - np.log10(0.016)))\n",
    "smhm_z5.insert(8,'Err+Q*',np.power(10,smhm_z5['Log_SMHM(4)'].values + smhm_z5['Err+(5)'].values - np.log10(0.016)))\n",
    "smhm_z5.insert(9,'Err-Q*',np.power(10,smhm_z5['Log_SMHM(4)'].values - smhm_z5['Err-(6)'].values - np.log10(0.016)))\n",
    "smhm_z5[smhm_z5['Log_SMHM(4)'] == 0] = 0\n",
    "\n",
    "\n",
    "smhm_z6.insert(7,'Q*',np.power(10,smhm_z6['Log_SMHM(4)'].values - np.log10(0.016)))\n",
    "smhm_z6.insert(8,'Err+Q*',np.power(10,smhm_z6['Log_SMHM(4)'].values + smhm_z6['Err+(5)'].values - np.log10(0.016)))\n",
    "smhm_z6.insert(9,'Err-Q*',np.power(10,smhm_z6['Log_SMHM(4)'].values - smhm_z6['Err-(6)'].values - np.log10(0.016)))\n",
    "smhm_z6[smhm_z6['Log_SMHM(4)'] == 0] = 0"
   ]
  },
  {
   "cell_type": "code",
   "execution_count": 5,
   "metadata": {},
   "outputs": [
    {
     "data": {
      "text/plain": [
       "0     0.000000\n",
       "1     0.000000\n",
       "2     0.000000\n",
       "3     0.000875\n",
       "4     0.001617\n",
       "5     0.002730\n",
       "6     0.006384\n",
       "7     0.019131\n",
       "8     0.038818\n",
       "9     0.059985\n",
       "10    0.086067\n",
       "11    0.126289\n",
       "12    0.183072\n",
       "13    0.266217\n",
       "14    0.387399\n",
       "15    0.564852\n",
       "16    0.811344\n",
       "17    0.779394\n",
       "18    0.253627\n",
       "19    0.170160\n",
       "20    0.000000\n",
       "21    0.000000\n",
       "22    0.000000\n",
       "23    0.000000\n",
       "24    0.000000\n",
       "25    0.000000\n",
       "26    0.000000\n",
       "27    0.000000\n",
       "28    0.000000\n",
       "29    0.000000\n",
       "30    0.000000\n",
       "31    0.000000\n",
       "Name: Q*, dtype: float64"
      ]
     },
     "execution_count": 5,
     "metadata": {},
     "output_type": "execute_result"
    }
   ],
   "source": [
    "smhm_z6['Q*']"
   ]
  },
  {
   "cell_type": "markdown",
   "metadata": {},
   "source": [
    "### Conversion UV SM"
   ]
  },
  {
   "cell_type": "code",
   "execution_count": 7,
   "metadata": {},
   "outputs": [
    {
     "name": "stderr",
     "output_type": "stream",
     "text": [
      "C:\\Users\\santiago.arranz\\AppData\\Local\\Continuum\\anaconda3\\lib\\site-packages\\ipykernel_launcher.py:17: ParserWarning: Falling back to the 'python' engine because the 'c' engine does not support regex separators (separators > 1 char and different from '\\s+' are interpreted as regex); you can avoid this warning by specifying engine='python'.\n",
      "C:\\Users\\santiago.arranz\\AppData\\Local\\Continuum\\anaconda3\\lib\\site-packages\\ipykernel_launcher.py:24: ParserWarning: Falling back to the 'python' engine because the 'c' engine does not support regex separators (separators > 1 char and different from '\\s+' are interpreted as regex); you can avoid this warning by specifying engine='python'.\n"
     ]
    }
   ],
   "source": [
    "archivos = [\"HMFCalc/Seth_WMAP7/mVector_z=4 .txt\",\"HMFCalc/Seth_WMAP7/mVector_z=5 .txt\",\n",
    "           \"HMFCalc/Seth_WMAP7/mVector_z=6 .txt\",\"HMFCalc/Seth_WMAP7/mVector_z=7 .txt\",\n",
    "           \"HMFCalc/Seth_WMAP7/mVector_z=8 .txt\"]\n",
    "'''\n",
    "archivos2 = [\"HMFCalc/Seth_Planck/mVector_PLANCK-SMT z4 .txt\",\"HMFCalc/Seth_Planck/mVector_PLANCK-SMT z5 .txt\",\n",
    "           \"HMFCalc/Seth_Planck/mVector_PLANCK-SMT z6 .txt\",\"HMFCalc/Seth_Planck/mVector_PLANCK-SMT z7 .txt\",\n",
    "           \"HMFCalc/Seth_Planck/mVector_PLANCK-SMT z8 .txt\"]\n",
    "'''\n",
    "archivos2 = [\"HMFCalc/Beh-Planck/mVector_PLANCK- z = 4 .txt\",\"HMFCalc/Beh-Planck/mVector_PLANCK- z = 5 .txt\",\n",
    "           \"HMFCalc/Beh-Planck/mVector_PLANCK- z = 6 .txt\",\"HMFCalc/Beh-Planck/mVector_PLANCK- z = 7 .txt\",\n",
    "           \"HMFCalc/Beh-Planck/mVector_PLANCK- z = 8 .txt\"]\n",
    "hmfcalc_list=[]\n",
    "hmfcalc_list2=[]\n",
    "\n",
    "for i in range(3):\n",
    "    a = archivos[i]\n",
    "    hmfcalc_z=pd.read_csv(a,sep=\"\\s\",header=None, skiprows=12)\n",
    "    hmfcalc_z = hmfcalc_z.iloc[:,[0,7,11]]\n",
    "    hmfcalc_z=hmfcalc_z.rename(columns={0:\"M_h\",7:\"dn/dlog10m\",11:\"Lbox\"})\n",
    "    hmfcalc_z[\"M_h\"]=np.log10(hmfcalc_z[\"M_h\"].values)\n",
    "    hmfcalc_list.append(hmfcalc_z)\n",
    "    \n",
    "    a = archivos2[i]\n",
    "    hmfcalc_z=pd.read_csv(a,sep=\"\\s\",header=None, skiprows=12)\n",
    "    hmfcalc_z = hmfcalc_z.iloc[:,[0,7,11]]\n",
    "    hmfcalc_z=hmfcalc_z.rename(columns={0:\"M_h\",7:\"dn/dlog10m\",11:\"Lbox\"})\n",
    "    hmfcalc_z[\"M_h\"]=np.log10(hmfcalc_z[\"M_h\"].values)\n",
    "    hmfcalc_list2.append(hmfcalc_z)"
   ]
  },
  {
   "cell_type": "markdown",
   "metadata": {},
   "source": [
    "### Puntos Steinhardt"
   ]
  },
  {
   "cell_type": "code",
   "execution_count": 8,
   "metadata": {},
   "outputs": [
    {
     "data": {
      "image/png": "[encoded data removed]",
      "text/plain": [
       "<matplotlib.figure.Figure at 0x2128fb880b8>"
      ]
     },
     "metadata": {},
     "output_type": "display_data"
    }
   ],
   "source": [
    "plt.figure(figsize=(15,10))\n",
    "plt.errorbar(bw_z4.Mass,bw_z4.phi, bw_z4.err_phi,marker='o',ms=5, mfc='b',ecolor=\"b\",linestyle=\"\")\n",
    "plt.errorbar(bw_z5.Mass,bw_z5.phi, bw_z5.err_phi,marker='s',ms=5, mfc='g',ecolor=\"g\",linestyle=\"\")\n",
    "plt.errorbar(bw_z6.Mass,bw_z6.phi, bw_z6.err_phi,marker='8',ms=5, mfc='r',ecolor=\"r\",linestyle=\"\")\n",
    "color = ['b','g','r']\n",
    "color2 = ['b--','g--','r--']\n",
    "hmf_um = [hmf_z4,hmf_z5,hmf_z6]\n",
    "for i in range(3):\n",
    "    \n",
    "    h = hmfcalc_list[i]\n",
    "    x = h.M_h.values[h.M_h.values<13.5]\n",
    "    y = h['dn/dlog10m'].values[h.M_h.values<13.5]\n",
    "    plt.plot(x,y, color[i])\n",
    "    \n",
    "    \n",
    "    '''\n",
    "    h = hmf_um[i]\n",
    "    mask = (h['#Log10(HM)'].values<13.5) & (h['#Log10(HM)'].values>10)\n",
    "    x = h['#Log10(HM)'].values[mask]\n",
    "    y = h['Number_Density'].values[mask]\n",
    "    ub = h['Number_Density'].values[mask] + h['Err+'].values[mask]\n",
    "    db = h['Number_Density'].values[mask]+ h['Err-'].values[mask]\n",
    "    #plt.plot(x,y, color[i])\n",
    "    \n",
    "    plt.fill_between(x,db,ub, color=color[i])'''\n",
    "\n",
    "#plt.plot(bw_z4.M, A * p_est * (10**(-0.4*(M-m_est)*(a_est+1))) - np.exp(10**(-0.4*(M-m_est))),'r-')\n",
    "plt.yscale('log')"
   ]
  },
  {
   "cell_type": "markdown",
   "metadata": {},
   "source": [
    "### Behroozi"
   ]
  },
  {
   "cell_type": "code",
   "execution_count": 9,
   "metadata": {
    "collapsed": true
   },
   "outputs": [],
   "source": [
    "# Usando las curvas de Behroozi\n",
    "def conv_uvsm_sfr1(z):\n",
    "    if z>=3.5 and z<4.5:\n",
    "        uvsm = uvsm_z4\n",
    "        bw = bw_z4.copy()\n",
    "        \n",
    "    elif z>=4.5 and z<5.5:\n",
    "        uvsm = uvsm_z5\n",
    "        bw = bw_z5.copy()\n",
    "    elif z>=5.5 and z<6.5:\n",
    "        uvsm = uvsm_z6\n",
    "        bw = bw_z6.copy()\n",
    "    else:\n",
    "        return pd.DataFrame({})\n",
    "    \n",
    "    f = interp1d(uvsm['#UV_Center'].values,uvsm['Median_SM'].values)\n",
    "    f_B = interp1d(uvsm['#UV_Center'].values,uvsm['Median_SM'].values + uvsm['Err+'].values)\n",
    "    f_b = interp1d(uvsm['#UV_Center'].values,uvsm['Median_SM'].values - uvsm['Err-'].values)\n",
    "    bw['#UV_Center'] = bw.M - bw.M % 0.25\n",
    "    bw = pd.merge(bw,uvsm, on=\"#UV_Center\")\n",
    "    \n",
    "    bw['SM'] = f(bw.M.values)\n",
    "    bw['SM_B'] = f_B(bw.M.values)\n",
    "    bw['SM_b'] = f_b(bw.M.values)\n",
    "    bw['Mh'] = np.log10(bw['SM'] * 70)\n",
    "    bw['Mh_B'] = np.log10(bw['SM_B'] * 70)\n",
    "    bw['Mh_b'] = np.log10(bw['SM_b'] * 70)\n",
    "    bw['Median_Mh'] = np.log10(bw['Median_SM'] * 70)\n",
    "    \n",
    "    return bw\n",
    "\n",
    "def conv_uvsm_behroozi(z):\n",
    "    if z>=3.5 and z<4.5:\n",
    "        uvsm = uvsm_z4\n",
    "        smhm = smhm_z4\n",
    "        bw = bw_z4.copy()\n",
    "        \n",
    "    elif z>=4.5 and z<5.5:\n",
    "        uvsm = uvsm_z5\n",
    "        smhm = smhm_z4\n",
    "        bw = bw_z5.copy()\n",
    "    elif z>=5.5 and z<6.5:\n",
    "        uvsm = uvsm_z6\n",
    "        smhm = smhm_z4\n",
    "        bw = bw_z6.copy()\n",
    "    else:\n",
    "        return pd.DataFrame({})\n",
    "    \n",
    "    f = interp1d(uvsm['#UV_Center'].values,uvsm['Median_SM'].values)\n",
    "    g = interp1d(smhm['Log_SM(1)'].values,smhm['#Log10(HM_Center)(0)'].values)\n",
    "    f_B = interp1d(uvsm['#UV_Center'].values,uvsm['Median_SM'].values + uvsm['Err+'].values)\n",
    "    f_b = interp1d(uvsm['#UV_Center'].values,uvsm['Median_SM'].values - uvsm['Err-'].values)\n",
    "    g_b = interp1d(smhm['Err+(2)'].values,smhm['#Log10(HM_Center)(0)'].values)\n",
    "    g_B = interp1d(smhm[ 'Err-(3)'].values,smhm['#Log10(HM_Center)(0)'].values)\n",
    "    bw['#UV_Center'] = bw.M - bw.M % 0.25\n",
    "    bw = pd.merge(bw,uvsm, on=\"#UV_Center\")\n",
    "    \n",
    "    bw['SM'] = f(bw.M.values)\n",
    "    bw['SM_B'] = f_B(bw.M.values)\n",
    "    bw['SM_b'] = f_b(bw.M.values)\n",
    "    \n",
    "    bw['Mh'] = g(np.log10(bw['SM']))\n",
    "    bw['Mh_B'] = g_B(np.log10(bw['SM_B']))\n",
    "    bw['Mh_b'] = g_b(np.log10(bw['SM_b']))\n",
    "    bw['Median_Mh'] = g(np.log10(bw['Median_SM']))\n",
    "    \n",
    "    return bw"
   ]
  },
  {
   "cell_type": "code",
   "execution_count": 35,
   "metadata": {},
   "outputs": [
    {
     "data": {
      "text/html": [
       "<div>\n",
       "<style scoped>\n",
       "    .dataframe tbody tr th:only-of-type {\n",
       "        vertical-align: middle;\n",
       "    }\n",
       "\n",
       "    .dataframe tbody tr th {\n",
       "        vertical-align: top;\n",
       "    }\n",
       "\n",
       "    .dataframe thead th {\n",
       "        text-align: right;\n",
       "    }\n",
       "</style>\n",
       "<table border=\"1\" class=\"dataframe\">\n",
       "  <thead>\n",
       "    <tr style=\"text-align: right;\">\n",
       "      <th></th>\n",
       "      <th>#UV_Center</th>\n",
       "      <th>Median_SM</th>\n",
       "      <th>Err+</th>\n",
       "      <th>Err-</th>\n",
       "      <th>UV_Min</th>\n",
       "      <th>UV_Max</th>\n",
       "    </tr>\n",
       "  </thead>\n",
       "  <tbody>\n",
       "    <tr>\n",
       "      <th>0</th>\n",
       "      <td>-23.75</td>\n",
       "      <td>2.645710e+11</td>\n",
       "      <td>1.010890e+11</td>\n",
       "      <td>8.327530e+10</td>\n",
       "      <td>-24.0</td>\n",
       "      <td>-23.5</td>\n",
       "    </tr>\n",
       "    <tr>\n",
       "      <th>1</th>\n",
       "      <td>-23.25</td>\n",
       "      <td>1.447760e+11</td>\n",
       "      <td>2.718590e+10</td>\n",
       "      <td>4.360790e+10</td>\n",
       "      <td>-23.5</td>\n",
       "      <td>-23.0</td>\n",
       "    </tr>\n",
       "    <tr>\n",
       "      <th>2</th>\n",
       "      <td>-22.75</td>\n",
       "      <td>8.031020e+10</td>\n",
       "      <td>9.450800e+09</td>\n",
       "      <td>2.238510e+10</td>\n",
       "      <td>-23.0</td>\n",
       "      <td>-22.5</td>\n",
       "    </tr>\n",
       "    <tr>\n",
       "      <th>3</th>\n",
       "      <td>-22.25</td>\n",
       "      <td>4.146550e+10</td>\n",
       "      <td>2.588320e+09</td>\n",
       "      <td>1.057430e+10</td>\n",
       "      <td>-22.5</td>\n",
       "      <td>-22.0</td>\n",
       "    </tr>\n",
       "    <tr>\n",
       "      <th>4</th>\n",
       "      <td>-21.75</td>\n",
       "      <td>1.897540e+10</td>\n",
       "      <td>1.272490e+09</td>\n",
       "      <td>4.539430e+09</td>\n",
       "      <td>-22.0</td>\n",
       "      <td>-21.5</td>\n",
       "    </tr>\n",
       "    <tr>\n",
       "      <th>5</th>\n",
       "      <td>-21.25</td>\n",
       "      <td>8.371810e+09</td>\n",
       "      <td>7.346360e+08</td>\n",
       "      <td>1.408040e+09</td>\n",
       "      <td>-21.5</td>\n",
       "      <td>-21.0</td>\n",
       "    </tr>\n",
       "    <tr>\n",
       "      <th>6</th>\n",
       "      <td>-20.75</td>\n",
       "      <td>4.038910e+09</td>\n",
       "      <td>4.939580e+08</td>\n",
       "      <td>6.151670e+08</td>\n",
       "      <td>-21.0</td>\n",
       "      <td>-20.5</td>\n",
       "    </tr>\n",
       "    <tr>\n",
       "      <th>7</th>\n",
       "      <td>-20.25</td>\n",
       "      <td>2.099030e+09</td>\n",
       "      <td>3.425160e+08</td>\n",
       "      <td>2.709780e+08</td>\n",
       "      <td>-20.5</td>\n",
       "      <td>-20.0</td>\n",
       "    </tr>\n",
       "    <tr>\n",
       "      <th>8</th>\n",
       "      <td>-19.75</td>\n",
       "      <td>1.153130e+09</td>\n",
       "      <td>2.226250e+08</td>\n",
       "      <td>1.395580e+08</td>\n",
       "      <td>-20.0</td>\n",
       "      <td>-19.5</td>\n",
       "    </tr>\n",
       "    <tr>\n",
       "      <th>9</th>\n",
       "      <td>-19.25</td>\n",
       "      <td>6.674500e+08</td>\n",
       "      <td>1.408660e+08</td>\n",
       "      <td>7.815730e+07</td>\n",
       "      <td>-19.5</td>\n",
       "      <td>-19.0</td>\n",
       "    </tr>\n",
       "    <tr>\n",
       "      <th>10</th>\n",
       "      <td>-18.75</td>\n",
       "      <td>4.001490e+08</td>\n",
       "      <td>9.326320e+07</td>\n",
       "      <td>4.415600e+07</td>\n",
       "      <td>-19.0</td>\n",
       "      <td>-18.5</td>\n",
       "    </tr>\n",
       "    <tr>\n",
       "      <th>11</th>\n",
       "      <td>-18.25</td>\n",
       "      <td>2.457740e+08</td>\n",
       "      <td>5.985040e+07</td>\n",
       "      <td>2.602390e+07</td>\n",
       "      <td>-18.5</td>\n",
       "      <td>-18.0</td>\n",
       "    </tr>\n",
       "    <tr>\n",
       "      <th>12</th>\n",
       "      <td>-17.75</td>\n",
       "      <td>1.536950e+08</td>\n",
       "      <td>3.842450e+07</td>\n",
       "      <td>1.606390e+07</td>\n",
       "      <td>-18.0</td>\n",
       "      <td>-17.5</td>\n",
       "    </tr>\n",
       "    <tr>\n",
       "      <th>13</th>\n",
       "      <td>-17.25</td>\n",
       "      <td>0.000000e+00</td>\n",
       "      <td>0.000000e+00</td>\n",
       "      <td>0.000000e+00</td>\n",
       "      <td>-17.5</td>\n",
       "      <td>-17.0</td>\n",
       "    </tr>\n",
       "  </tbody>\n",
       "</table>\n",
       "</div>"
      ],
      "text/plain": [
       "    #UV_Center     Median_SM          Err+          Err-  UV_Min  UV_Max\n",
       "0       -23.75  2.645710e+11  1.010890e+11  8.327530e+10   -24.0   -23.5\n",
       "1       -23.25  1.447760e+11  2.718590e+10  4.360790e+10   -23.5   -23.0\n",
       "2       -22.75  8.031020e+10  9.450800e+09  2.238510e+10   -23.0   -22.5\n",
       "3       -22.25  4.146550e+10  2.588320e+09  1.057430e+10   -22.5   -22.0\n",
       "4       -21.75  1.897540e+10  1.272490e+09  4.539430e+09   -22.0   -21.5\n",
       "5       -21.25  8.371810e+09  7.346360e+08  1.408040e+09   -21.5   -21.0\n",
       "6       -20.75  4.038910e+09  4.939580e+08  6.151670e+08   -21.0   -20.5\n",
       "7       -20.25  2.099030e+09  3.425160e+08  2.709780e+08   -20.5   -20.0\n",
       "8       -19.75  1.153130e+09  2.226250e+08  1.395580e+08   -20.0   -19.5\n",
       "9       -19.25  6.674500e+08  1.408660e+08  7.815730e+07   -19.5   -19.0\n",
       "10      -18.75  4.001490e+08  9.326320e+07  4.415600e+07   -19.0   -18.5\n",
       "11      -18.25  2.457740e+08  5.985040e+07  2.602390e+07   -18.5   -18.0\n",
       "12      -17.75  1.536950e+08  3.842450e+07  1.606390e+07   -18.0   -17.5\n",
       "13      -17.25  0.000000e+00  0.000000e+00  0.000000e+00   -17.5   -17.0"
      ]
     },
     "execution_count": 35,
     "metadata": {},
     "output_type": "execute_result"
    }
   ],
   "source": [
    "uvsm"
   ]
  },
  {
   "cell_type": "code",
   "execution_count": 63,
   "metadata": {},
   "outputs": [
    {
     "data": {
      "text/plain": [
       "(10.878802249971022, 10.783086)"
      ]
     },
     "execution_count": 63,
     "metadata": {},
     "output_type": "execute_result"
    }
   ],
   "source": [
    "bw = bw_z4\n",
    "uvsm = uvsm_z4\n",
    "smhm = smhm_z4\n",
    "f = interp1d(uvsm['#UV_Center'].values,uvsm['Median_SM'].values)\n",
    "g = interp1d(smhm['Log_SM(1)'].values,smhm['#Log10(HM_Center)(0)'].values)\n",
    "f_B = interp1d(uvsm['#UV_Center'].values,uvsm['Median_SM'].values + uvsm['Err+'].values)\n",
    "f_b = interp1d(uvsm['#UV_Center'].values,uvsm['Median_SM'].values - uvsm['Err-'].values)\n",
    "g_b = interp1d(smhm['Err+(2)'].values,smhm['#Log10(HM_Center)(0)'].values)\n",
    "g_B = interp1d(smhm[ 'Err-(3)'].values,smhm['#Log10(HM_Center)(0)'].values)\n",
    "bw['#UV_Center'] = bw.M - bw.M % 0.25\n",
    "bw = pd.merge(bw,uvsm, on=\"#UV_Center\")\n",
    "\n",
    "bw['SM'] = f(bw.M.values)\n",
    "bw['SM_B'] = f_B(bw.M.values)\n",
    "bw['SM_b'] = f_b(bw.M.values)\n",
    "bw['Mh'] = g(np.log10(bw['SM']))\n",
    "bw['Mh_B'] = g_B(np.log10(bw['SM_B']))\n",
    "bw['Mh_b'] = g_b(np.log10(bw['SM_b']))\n",
    "\n",
    "np.log10(bw['SM']).max(), smhm['Log_SM(1)'].max()"
   ]
  },
  {
   "cell_type": "code",
   "execution_count": 64,
   "metadata": {},
   "outputs": [
    {
     "ename": "ValueError",
     "evalue": "A value in x_new is above the interpolation range.",
     "output_type": "error",
     "traceback": [
      "\u001b[1;31m---------------------------------------------------------------------------\u001b[0m",
      "\u001b[1;31mValueError\u001b[0m                                Traceback (most recent call last)",
      "\u001b[1;32m<ipython-input-64-fbc4904b0cba>\u001b[0m in \u001b[0;36m<module>\u001b[1;34m()\u001b[0m\n\u001b[1;32m----> 1\u001b[1;33m \u001b[0mbz4\u001b[0m \u001b[1;33m=\u001b[0m \u001b[0mconv_uvsm_behroozi\u001b[0m\u001b[1;33m(\u001b[0m\u001b[1;36m4\u001b[0m\u001b[1;33m)\u001b[0m\u001b[1;33m\u001b[0m\u001b[0m\n\u001b[0m",
      "\u001b[1;32m<ipython-input-9-17732194ba27>\u001b[0m in \u001b[0;36mconv_uvsm_behroozi\u001b[1;34m(z)\u001b[0m\n\u001b[0;32m     60\u001b[0m     \u001b[0mbw\u001b[0m\u001b[1;33m[\u001b[0m\u001b[1;34m'SM_b'\u001b[0m\u001b[1;33m]\u001b[0m \u001b[1;33m=\u001b[0m \u001b[0mf_b\u001b[0m\u001b[1;33m(\u001b[0m\u001b[0mbw\u001b[0m\u001b[1;33m.\u001b[0m\u001b[0mM\u001b[0m\u001b[1;33m.\u001b[0m\u001b[0mvalues\u001b[0m\u001b[1;33m)\u001b[0m\u001b[1;33m\u001b[0m\u001b[0m\n\u001b[0;32m     61\u001b[0m \u001b[1;33m\u001b[0m\u001b[0m\n\u001b[1;32m---> 62\u001b[1;33m     \u001b[0mbw\u001b[0m\u001b[1;33m[\u001b[0m\u001b[1;34m'Mh'\u001b[0m\u001b[1;33m]\u001b[0m \u001b[1;33m=\u001b[0m \u001b[0mg\u001b[0m\u001b[1;33m(\u001b[0m\u001b[0mnp\u001b[0m\u001b[1;33m.\u001b[0m\u001b[0mlog10\u001b[0m\u001b[1;33m(\u001b[0m\u001b[0mbw\u001b[0m\u001b[1;33m[\u001b[0m\u001b[1;34m'SM'\u001b[0m\u001b[1;33m]\u001b[0m\u001b[1;33m)\u001b[0m\u001b[1;33m)\u001b[0m\u001b[1;33m\u001b[0m\u001b[0m\n\u001b[0m\u001b[0;32m     63\u001b[0m     \u001b[0mbw\u001b[0m\u001b[1;33m[\u001b[0m\u001b[1;34m'Mh_B'\u001b[0m\u001b[1;33m]\u001b[0m \u001b[1;33m=\u001b[0m \u001b[0mg_B\u001b[0m\u001b[1;33m(\u001b[0m\u001b[0mnp\u001b[0m\u001b[1;33m.\u001b[0m\u001b[0mlog10\u001b[0m\u001b[1;33m(\u001b[0m\u001b[0mbw\u001b[0m\u001b[1;33m[\u001b[0m\u001b[1;34m'SM_B'\u001b[0m\u001b[1;33m]\u001b[0m\u001b[1;33m)\u001b[0m\u001b[1;33m)\u001b[0m\u001b[1;33m\u001b[0m\u001b[0m\n\u001b[0;32m     64\u001b[0m     \u001b[0mbw\u001b[0m\u001b[1;33m[\u001b[0m\u001b[1;34m'Mh_b'\u001b[0m\u001b[1;33m]\u001b[0m \u001b[1;33m=\u001b[0m \u001b[0mg_b\u001b[0m\u001b[1;33m(\u001b[0m\u001b[0mnp\u001b[0m\u001b[1;33m.\u001b[0m\u001b[0mlog10\u001b[0m\u001b[1;33m(\u001b[0m\u001b[0mbw\u001b[0m\u001b[1;33m[\u001b[0m\u001b[1;34m'SM_b'\u001b[0m\u001b[1;33m]\u001b[0m\u001b[1;33m)\u001b[0m\u001b[1;33m)\u001b[0m\u001b[1;33m\u001b[0m\u001b[0m\n",
      "\u001b[1;32m~\\AppData\\Local\\Continuum\\anaconda3\\lib\\site-packages\\scipy\\interpolate\\polyint.py\u001b[0m in \u001b[0;36m__call__\u001b[1;34m(self, x)\u001b[0m\n\u001b[0;32m     77\u001b[0m         \"\"\"\n\u001b[0;32m     78\u001b[0m         \u001b[0mx\u001b[0m\u001b[1;33m,\u001b[0m \u001b[0mx_shape\u001b[0m \u001b[1;33m=\u001b[0m \u001b[0mself\u001b[0m\u001b[1;33m.\u001b[0m\u001b[0m_prepare_x\u001b[0m\u001b[1;33m(\u001b[0m\u001b[0mx\u001b[0m\u001b[1;33m)\u001b[0m\u001b[1;33m\u001b[0m\u001b[0m\n\u001b[1;32m---> 79\u001b[1;33m         \u001b[0my\u001b[0m \u001b[1;33m=\u001b[0m \u001b[0mself\u001b[0m\u001b[1;33m.\u001b[0m\u001b[0m_evaluate\u001b[0m\u001b[1;33m(\u001b[0m\u001b[0mx\u001b[0m\u001b[1;33m)\u001b[0m\u001b[1;33m\u001b[0m\u001b[0m\n\u001b[0m\u001b[0;32m     80\u001b[0m         \u001b[1;32mreturn\u001b[0m \u001b[0mself\u001b[0m\u001b[1;33m.\u001b[0m\u001b[0m_finish_y\u001b[0m\u001b[1;33m(\u001b[0m\u001b[0my\u001b[0m\u001b[1;33m,\u001b[0m \u001b[0mx_shape\u001b[0m\u001b[1;33m)\u001b[0m\u001b[1;33m\u001b[0m\u001b[0m\n\u001b[0;32m     81\u001b[0m \u001b[1;33m\u001b[0m\u001b[0m\n",
      "\u001b[1;32m~\\AppData\\Local\\Continuum\\anaconda3\\lib\\site-packages\\scipy\\interpolate\\interpolate.py\u001b[0m in \u001b[0;36m_evaluate\u001b[1;34m(self, x_new)\u001b[0m\n\u001b[0;32m    661\u001b[0m         \u001b[0my_new\u001b[0m \u001b[1;33m=\u001b[0m \u001b[0mself\u001b[0m\u001b[1;33m.\u001b[0m\u001b[0m_call\u001b[0m\u001b[1;33m(\u001b[0m\u001b[0mself\u001b[0m\u001b[1;33m,\u001b[0m \u001b[0mx_new\u001b[0m\u001b[1;33m)\u001b[0m\u001b[1;33m\u001b[0m\u001b[0m\n\u001b[0;32m    662\u001b[0m         \u001b[1;32mif\u001b[0m \u001b[1;32mnot\u001b[0m \u001b[0mself\u001b[0m\u001b[1;33m.\u001b[0m\u001b[0m_extrapolate\u001b[0m\u001b[1;33m:\u001b[0m\u001b[1;33m\u001b[0m\u001b[0m\n\u001b[1;32m--> 663\u001b[1;33m             \u001b[0mbelow_bounds\u001b[0m\u001b[1;33m,\u001b[0m \u001b[0mabove_bounds\u001b[0m \u001b[1;33m=\u001b[0m \u001b[0mself\u001b[0m\u001b[1;33m.\u001b[0m\u001b[0m_check_bounds\u001b[0m\u001b[1;33m(\u001b[0m\u001b[0mx_new\u001b[0m\u001b[1;33m)\u001b[0m\u001b[1;33m\u001b[0m\u001b[0m\n\u001b[0m\u001b[0;32m    664\u001b[0m             \u001b[1;32mif\u001b[0m \u001b[0mlen\u001b[0m\u001b[1;33m(\u001b[0m\u001b[0my_new\u001b[0m\u001b[1;33m)\u001b[0m \u001b[1;33m>\u001b[0m \u001b[1;36m0\u001b[0m\u001b[1;33m:\u001b[0m\u001b[1;33m\u001b[0m\u001b[0m\n\u001b[0;32m    665\u001b[0m                 \u001b[1;31m# Note fill_value must be broadcast up to the proper size\u001b[0m\u001b[1;33m\u001b[0m\u001b[1;33m\u001b[0m\u001b[0m\n",
      "\u001b[1;32m~\\AppData\\Local\\Continuum\\anaconda3\\lib\\site-packages\\scipy\\interpolate\\interpolate.py\u001b[0m in \u001b[0;36m_check_bounds\u001b[1;34m(self, x_new)\u001b[0m\n\u001b[0;32m    693\u001b[0m                              \"range.\")\n\u001b[0;32m    694\u001b[0m         \u001b[1;32mif\u001b[0m \u001b[0mself\u001b[0m\u001b[1;33m.\u001b[0m\u001b[0mbounds_error\u001b[0m \u001b[1;32mand\u001b[0m \u001b[0mabove_bounds\u001b[0m\u001b[1;33m.\u001b[0m\u001b[0many\u001b[0m\u001b[1;33m(\u001b[0m\u001b[1;33m)\u001b[0m\u001b[1;33m:\u001b[0m\u001b[1;33m\u001b[0m\u001b[0m\n\u001b[1;32m--> 695\u001b[1;33m             raise ValueError(\"A value in x_new is above the interpolation \"\n\u001b[0m\u001b[0;32m    696\u001b[0m                              \"range.\")\n\u001b[0;32m    697\u001b[0m \u001b[1;33m\u001b[0m\u001b[0m\n",
      "\u001b[1;31mValueError\u001b[0m: A value in x_new is above the interpolation range."
     ]
    }
   ],
   "source": [
    "bz4 = conv_uvsm_behroozi(4)"
   ]
  },
  {
   "cell_type": "code",
   "execution_count": 12,
   "metadata": {},
   "outputs": [],
   "source": [
    "bz4 = conv_uvsm_sfr1(4)\n",
    "bz5 = conv_uvsm_sfr1(5)\n",
    "bz6 = conv_uvsm_sfr1(6)"
   ]
  },
  {
   "cell_type": "code",
   "execution_count": 13,
   "metadata": {},
   "outputs": [
    {
     "data": {
      "image/png": "[encoded data removed]",
      "text/plain": [
       "<matplotlib.figure.Figure at 0x21292947e80>"
      ]
     },
     "metadata": {},
     "output_type": "display_data"
    }
   ],
   "source": [
    "plt.figure(figsize=(15,10))\n",
    "\n",
    "plt.errorbar(bz4.Mh,bz4.phi, xerr=[bz4.Mh_B-bz4.Mh, bz4.Mh-bz4.Mh_b] ,yerr=bz4.err_phi,marker='o',ms=5, mfc='b',ecolor=\"b\",linestyle=\"\")\n",
    "plt.errorbar(bz5.Mh,bz5.phi, xerr=[bz5.Mh_B-bz5.Mh, bz5.Mh-bz5.Mh_b] ,yerr=bz5.err_phi,marker='s',ms=5, mfc='g',ecolor=\"g\",linestyle=\"\")\n",
    "plt.errorbar(bz6.Mh,bz6.phi, xerr=[bz6.Mh_B-bz6.Mh, bz6.Mh-bz6.Mh_b] ,yerr=bz6.err_phi,marker='8',ms=5, mfc='r',ecolor=\"r\",linestyle=\"\")\n",
    "color = ['b','g','r']\n",
    "color2 = ['b--','g--','r--']\n",
    "hmf_um = [hmf_z4,hmf_z5,hmf_z6]\n",
    "for i in range(3):\n",
    "    h = hmfcalc_list[i]\n",
    "    x = h.M_h.values[h.M_h.values<13.5]\n",
    "    y = h['dn/dlog10m'].values[h.M_h.values<13.5]\n",
    "    plt.plot(x,y, color[i])\n",
    "    '''\n",
    "    h = hmf_um[i]\n",
    "    mask = (h['#Log10(HM)'].values<13.5) & (h['#Log10(HM)'].values>10)\n",
    "    x = h['#Log10(HM)'].values[mask]\n",
    "    y = h['Number_Density'].values[mask]\n",
    "    ub = h['Number_Density'].values[mask] + h['Err+'].values[mask]\n",
    "    db = h['Number_Density'].values[mask]+ h['Err-'].values[mask]\n",
    "    #plt.plot(x,y, color[i])\n",
    "    \n",
    "    plt.fill_between(x,db,ub, color=color[i])\n",
    "    '''\n",
    "#plt.plot(bw_z4.M, A * p_est * (10**(-0.4*(M-m_est)*(a_est+1))) - np.exp(10**(-0.4*(M-m_est))),'r-')\n",
    "plt.yscale('log')"
   ]
  },
  {
   "cell_type": "code",
   "execution_count": null,
   "metadata": {
    "collapsed": true
   },
   "outputs": [],
   "source": []
  }
 ],
 "metadata": {
  "kernelspec": {
   "display_name": "Python 3",
   "language": "python",
   "name": "python3"
  },
  "language_info": {
   "codemirror_mode": {
    "name": "ipython",
    "version": 3
   },
   "file_extension": ".py",
   "mimetype": "text/x-python",
   "name": "python",
   "nbconvert_exporter": "python",
   "pygments_lexer": "ipython3",
   "version": "3.6.3"
  }
 },
 "nbformat": 4,
 "nbformat_minor": 2
}
